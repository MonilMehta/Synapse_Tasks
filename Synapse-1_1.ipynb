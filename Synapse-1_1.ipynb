{
 "cells": [
  {
   "cell_type": "code",
   "execution_count": 1,
   "id": "8ef9862e",
   "metadata": {},
   "outputs": [],
   "source": [
    "jumbled_superheroes=['DocToR_sTRAngE','sPidERmaN','MoON_KnigHT','caPTAIN_aMERIca','hULK']"
   ]
  },
  {
   "cell_type": "code",
   "execution_count": 2,
   "id": "e127c47d",
   "metadata": {},
   "outputs": [],
   "source": [
    "indices=[]\n",
    "decoded_names=[]"
   ]
  },
  {
   "cell_type": "code",
   "execution_count": 3,
   "id": "7b699b07",
   "metadata": {},
   "outputs": [],
   "source": [
    "for (index,name) in enumerate(jumbled_superheroes):\n",
    "    indices.append(index)\n",
    "    decoded_names.append(name.lower())"
   ]
  },
  {
   "cell_type": "code",
   "execution_count": 4,
   "id": "b9384214",
   "metadata": {},
   "outputs": [],
   "source": [
    "for _ in range(len(decoded_names)):\n",
    "    x=decoded_names[_]\n",
    "    x=x.replace('_',' ')\n",
    "    x=x.title()\n",
    "    decoded_names[_]=x"
   ]
  },
  {
   "cell_type": "code",
   "execution_count": 5,
   "id": "b670d904",
   "metadata": {},
   "outputs": [
    {
     "name": "stdout",
     "output_type": "stream",
     "text": [
      "[14, 9, 11, 15, 4]\n"
     ]
    }
   ],
   "source": [
    "y = lambda a : len(a)\n",
    "name_length=[]\n",
    "\n",
    "for _ in range(len(decoded_names)):\n",
    "    name_length.append(y(decoded_names[_]))\n",
    "print(name_length)"
   ]
  },
  {
   "cell_type": "code",
   "execution_count": 6,
   "id": "81432a3e",
   "metadata": {},
   "outputs": [
    {
     "data": {
      "text/plain": [
       "[4, 1, 2, 0, 3]"
      ]
     },
     "execution_count": 6,
     "metadata": {},
     "output_type": "execute_result"
    }
   ],
   "source": [
    "indices.sort(key = lambda j : name_length[j])\n",
    "indices"
   ]
  },
  {
   "cell_type": "code",
   "execution_count": 7,
   "id": "8aecb019",
   "metadata": {},
   "outputs": [
    {
     "data": {
      "text/plain": [
       "['Hulk', 'Spiderman', 'Moon Knight', 'Doctor Strange', 'Captain America']"
      ]
     },
     "execution_count": 7,
     "metadata": {},
     "output_type": "execute_result"
    }
   ],
   "source": [
    "new_list=[decoded_names[i].title() for i in indices]\n",
    "new_list"
   ]
  },
  {
   "cell_type": "code",
   "execution_count": 8,
   "id": "62285bcc",
   "metadata": {},
   "outputs": [
    {
     "name": "stdout",
     "output_type": "stream",
     "text": [
      "1.Hulk\n",
      "2.Spiderman\n",
      "3.Moon Knight\n",
      "4.Doctor Strange\n",
      "5.Captain America\n"
     ]
    }
   ],
   "source": [
    "for _ in range(len(new_list)):\n",
    "    print(f'{_+1}.{new_list[_]}')"
   ]
  }
 ],
 "metadata": {
  "kernelspec": {
   "display_name": "Python 3 (ipykernel)",
   "language": "python",
   "name": "python3"
  },
  "language_info": {
   "codemirror_mode": {
    "name": "ipython",
    "version": 3
   },
   "file_extension": ".py",
   "mimetype": "text/x-python",
   "name": "python",
   "nbconvert_exporter": "python",
   "pygments_lexer": "ipython3",
   "version": "3.11.3"
  }
 },
 "nbformat": 4,
 "nbformat_minor": 5
}
