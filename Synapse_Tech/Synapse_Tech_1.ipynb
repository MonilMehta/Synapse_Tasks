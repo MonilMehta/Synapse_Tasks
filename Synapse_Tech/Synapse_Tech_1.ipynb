{
 "cells": [
  {
   "cell_type": "markdown",
   "id": "0a94f396",
   "metadata": {},
   "source": [
    "Create a Python function that takes two numbers, start (inclusive) and end (exclusive), as input.\n",
    "These numbers represent a range. The function should check if each number in the range is a prime\n",
    "number or not. If a number is prime, the function should return its binary representation. If a\n",
    "number is not prime, the function should return an array containing all the divisors of that number.\n",
    "Finally, the function should return a dictionary with each number in the range as a key and the value\n",
    "as either the binary representation (if the number is prime) or the array of divisors (if the number is\n",
    "not prime).\n",
    "For example,\n",
    "Input:\n",
    "• start : 2\n",
    "• end : 8\n",
    "Output:\n",
    "{2: '10', 3: '11', 4: [1, 2, 4], 5: '101', 6: [1, 2, 3, 6], 7: '111' }"
   ]
  },
  {
   "cell_type": "code",
   "execution_count": 1,
   "id": "41d96ce0",
   "metadata": {},
   "outputs": [],
   "source": [
    "def check_prime(num):\n",
    "    flag=0\n",
    "    if num <=3 :\n",
    "        flag=0\n",
    "    else:\n",
    "        for i in range(2,num):\n",
    "            if num%i==0:\n",
    "                flag=1\n",
    "                break\n",
    "    if flag == 0:\n",
    "        return bin(num)[2:]\n",
    "    else:\n",
    "        return [i for i in range(1,num+1) if num%i==0]"
   ]
  },
  {
   "cell_type": "code",
   "execution_count": 2,
   "id": "c256b1a4",
   "metadata": {},
   "outputs": [],
   "source": [
    "def print_num(Start,Stop):\n",
    "    mydict={}\n",
    "    start=Start\n",
    "    stop=Stop\n",
    "    for i in range(start,stop+1):\n",
    "        a=check_prime(i)\n",
    "        mydict[i]=a\n",
    "    return mydict"
   ]
  },
  {
   "cell_type": "code",
   "execution_count": 3,
   "id": "ded0b8e8",
   "metadata": {},
   "outputs": [
    {
     "data": {
      "text/plain": [
       "{3: '11',\n",
       " 4: [1, 2, 4],\n",
       " 5: '101',\n",
       " 6: [1, 2, 3, 6],\n",
       " 7: '111',\n",
       " 8: [1, 2, 4, 8],\n",
       " 9: [1, 3, 9],\n",
       " 10: [1, 2, 5, 10]}"
      ]
     },
     "execution_count": 3,
     "metadata": {},
     "output_type": "execute_result"
    }
   ],
   "source": [
    "dict = print_num(3,10)\n",
    "dict"
   ]
  }
 ],
 "metadata": {
  "kernelspec": {
   "display_name": "Python 3 (ipykernel)",
   "language": "python",
   "name": "python3"
  },
  "language_info": {
   "codemirror_mode": {
    "name": "ipython",
    "version": 3
   },
   "file_extension": ".py",
   "mimetype": "text/x-python",
   "name": "python",
   "nbconvert_exporter": "python",
   "pygments_lexer": "ipython3",
   "version": "3.11.3"
  }
 },
 "nbformat": 4,
 "nbformat_minor": 5
}
