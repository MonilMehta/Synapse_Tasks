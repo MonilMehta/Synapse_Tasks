{
 "cells": [
  {
   "cell_type": "code",
   "execution_count": 1,
   "id": "adf1e78b",
   "metadata": {},
   "outputs": [],
   "source": [
    "encoded_lists = [\n",
    "    [1,2,3,4,6],\n",
    "    [5,7,8,9,15],\n",
    "    [12,14,16,18],\n",
    "    [10,11,12,13,16,17,18,20]\n",
    "]"
   ]
  },
  {
   "cell_type": "code",
   "execution_count": 2,
   "id": "7e39df88",
   "metadata": {},
   "outputs": [],
   "source": [
    "def seq_check(a,b,c):\n",
    "    i=a\n",
    "    j=i+1\n",
    "    k=i+2\n",
    "    x = (i==a and j==b and k==c)\n" ,
    "    return x"
   ]
  },
  {
   "cell_type": "code",
   "execution_count": 3,
   "id": "48775d0a",
   "metadata": {},
   "outputs": [],
   "source": [
    "def explode_chains(lists):\n",
    "    new_lists = []\n",
    "    for z in lists:\n",
    "        i = 0\n",
    "        while i < len(z) - 2:\n",
    "            a = z[i]\n",
    "            b = z[i + 1]\n",
    "            c = z[i + 2]\n",
    "            if seq_check(a, b, c):\n",
    "                z.pop(i)\n",
    "                z.pop(i) \n",
    "                z.pop(i)  \n",
    "            else:\n",
    "                i += 1\n",
    "        new_lists.append(z)\n",
    "    return new_lists"
   ]
  },
  {
   "cell_type": "code",
   "execution_count": 4,
   "id": "2d5c8ce6",
   "metadata": {},
   "outputs": [],
   "source": [
    "new_list = explode_chains(encoded_lists)"
   ]
  },
  {
   "cell_type": "code",
   "execution_count": 5,
   "id": "8a9445b4",
   "metadata": {},
   "outputs": [
    {
     "data": {
      "text/plain": [
       "[[4, 6], [5, 15], [12, 14, 16, 18], [13, 20]]"
      ]
     },
     "execution_count": 5,
     "metadata": {},
     "output_type": "execute_result"
    }
   ],
   "source": [
    "new_list"
   ]
  }
 ],
 "metadata": {
  "kernelspec": {
   "display_name": "Python 3 (ipykernel)",
   "language": "python",
   "name": "python3"
  },
  "language_info": {
   "codemirror_mode": {
    "name": "ipython",
    "version": 3
   },
   "file_extension": ".py",
   "mimetype": "text/x-python",
   "name": "python",
   "nbconvert_exporter": "python",
   "pygments_lexer": "ipython3",
   "version": "3.11.3"
  }
 },
 "nbformat": 4,
 "nbformat_minor": 5
}
