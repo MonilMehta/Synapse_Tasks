{
 "cells": [
  {
   "cell_type": "code",
   "execution_count": 7,
   "id": "8d760238",
   "metadata": {},
   "outputs": [],
   "source": [
    "lst1 =['0001','0011','0101','1011','1101','1111']"
   ]
  },
  {
   "cell_type": "code",
   "execution_count": 8,
   "id": "5349e3d3",
   "metadata": {},
   "outputs": [],
   "source": [
    "new_list = [int(x, base=2) for x in lst1]"
   ]
  },
  {
   "cell_type": "code",
   "execution_count": 9,
   "id": "7decf7dc",
   "metadata": {},
   "outputs": [
    {
     "data": {
      "text/plain": [
       "[1, 3, 5, 11, 13, 15]"
      ]
     },
     "execution_count": 9,
     "metadata": {},
     "output_type": "execute_result"
    }
   ],
   "source": [
    "new_list"
   ]
  },
  {
   "cell_type": "code",
   "execution_count": 10,
   "id": "6fd46d67",
   "metadata": {},
   "outputs": [],
   "source": [
    "\n",
    "while len(new_list)>2:\n",
    "    new_list.sort()\n",
    "    if len(new_list)%2==0:\n",
    "        a=new_list.pop(-1)\n",
    "        b=new_list.pop(0)\n",
    "    else:\n",
    "        a = new_list.pop(0)\n",
    "        b = new_list.pop(0)\n",
    "    new_list.append(a + b)"
   ]
  },
  {
   "cell_type": "code",
   "execution_count": 11,
   "id": "e1a3b2c7",
   "metadata": {},
   "outputs": [
    {
     "data": {
      "text/plain": [
       "[24, 24]"
      ]
     },
     "execution_count": 11,
     "metadata": {},
     "output_type": "execute_result"
    }
   ],
   "source": [
    "new_list"
   ]
  },
  {
   "cell_type": "code",
   "execution_count": 12,
   "id": "81bd7258",
   "metadata": {},
   "outputs": [
    {
     "name": "stdout",
     "output_type": "stream",
     "text": [
      "Difference is 0\n"
     ]
    }
   ],
   "source": [
    "new_list.sort()\n",
    "diff=new_list[1]-new_list[0]\n",
    "print(f\"Difference is {diff}\")"
   ]
  }
 ],
 "metadata": {
  "kernelspec": {
   "display_name": "Python 3 (ipykernel)",
   "language": "python",
   "name": "python3"
  },
  "language_info": {
   "codemirror_mode": {
    "name": "ipython",
    "version": 3
   },
   "file_extension": ".py",
   "mimetype": "text/x-python",
   "name": "python",
   "nbconvert_exporter": "python",
   "pygments_lexer": "ipython3",
   "version": "3.11.3"
  }
 },
 "nbformat": 4,
 "nbformat_minor": 5
}
